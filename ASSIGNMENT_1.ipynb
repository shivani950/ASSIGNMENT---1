{
  "nbformat": 4,
  "nbformat_minor": 0,
  "metadata": {
    "colab": {
      "provenance": []
    },
    "kernelspec": {
      "name": "python3",
      "display_name": "Python 3"
    },
    "language_info": {
      "name": "python"
    }
  },
  "cells": [
    {
      "cell_type": "markdown",
      "source": [
        "# Practical **Questions**"
      ],
      "metadata": {
        "id": "j7jHC6b_gnfb"
      }
    },
    {
      "cell_type": "markdown",
      "source": [
        "Write a Python program to print \"Hello, World!\n"
      ],
      "metadata": {
        "id": "4yZY0LdCgxDU"
      }
    },
    {
      "cell_type": "markdown",
      "source": [],
      "metadata": {
        "id": "fQ3F9svQQDru"
      }
    },
    {
      "cell_type": "code",
      "source": [
        "print(\"HELLO WORLD\")"
      ],
      "metadata": {
        "colab": {
          "base_uri": "https://localhost:8080/"
        },
        "id": "PGgmGrTEg62t",
        "outputId": "ab2afd5a-1a3a-4dc0-f7d7-a6eb8cdedaa9"
      },
      "execution_count": null,
      "outputs": [
        {
          "output_type": "stream",
          "name": "stdout",
          "text": [
            "HELLO WORLD\n"
          ]
        }
      ]
    },
    {
      "cell_type": "markdown",
      "source": [
        "Q.2 Write a Python program that displays your name and age?\n"
      ],
      "metadata": {
        "id": "hWe9Vgn7hTuG"
      }
    },
    {
      "cell_type": "code",
      "source": [
        "NAME = \"SHIVANI SHARMA\"\n",
        "AGE = 23\n",
        "print(f\"My name is {NAME} and I am {AGE} years old.\")\n",
        "\n",
        "\n",
        "\n"
      ],
      "metadata": {
        "colab": {
          "base_uri": "https://localhost:8080/"
        },
        "id": "KVeGzkkqhg_9",
        "outputId": "1e1f2b79-71b3-4002-fa79-0a5d9e6d529a"
      },
      "execution_count": null,
      "outputs": [
        {
          "output_type": "stream",
          "name": "stdout",
          "text": [
            "My name is {NAME} and I am {AGE} years old.\n"
          ]
        }
      ]
    },
    {
      "cell_type": "markdown",
      "source": [],
      "metadata": {
        "id": "iKZIJPKMQQEB"
      }
    },
    {
      "cell_type": "markdown",
      "source": [
        "Q 3 - Write code to print all the pre-defined keywords in Python using the keyword library"
      ],
      "metadata": {
        "id": "pQsS2Guukfrp"
      }
    },
    {
      "cell_type": "code",
      "source": [
        "print(keyword.kwlist)"
      ],
      "metadata": {
        "colab": {
          "base_uri": "https://localhost:8080/"
        },
        "id": "kCq-awCKkntK",
        "outputId": "959a5b8d-48c3-4ed4-8c40-80aeee4a7c86"
      },
      "execution_count": null,
      "outputs": [
        {
          "output_type": "stream",
          "name": "stdout",
          "text": [
            "['False', 'None', 'True', 'and', 'as', 'assert', 'async', 'await', 'break', 'class', 'continue', 'def', 'del', 'elif', 'else', 'except', 'finally', 'for', 'from', 'global', 'if', 'import', 'in', 'is', 'lambda', 'nonlocal', 'not', 'or', 'pass', 'raise', 'return', 'try', 'while', 'with', 'yield']\n"
          ]
        }
      ]
    },
    {
      "cell_type": "markdown",
      "source": [
        "Q.4 Write a program that checks if a given word is a Python keyword"
      ],
      "metadata": {
        "id": "bwAP1QPHm30r"
      }
    },
    {
      "cell_type": "code",
      "source": [
        "word = input(\"Enter a word to check if it's a Python keyword: \")\n",
        "\n",
        "# Check if the word is a keyword\n",
        "if keyword.iskeyword(word):\n",
        "    print(f\"'{word}' is a Python keyword.\")\n",
        "else:\n",
        "    print(f\"'{word}' is not a Python keyword.\")\n"
      ],
      "metadata": {
        "id": "H8x4-Ybxm9Ma"
      },
      "execution_count": null,
      "outputs": []
    },
    {
      "cell_type": "markdown",
      "source": [
        "Q.5 Create a list and tuple in Python, and demonstrate how attempting to change an element works differently\n",
        "for each\n"
      ],
      "metadata": {
        "id": "RXlKCm2snULK"
      }
    },
    {
      "cell_type": "code",
      "source": [
        "my_list = [1, 2, 3, 4, 5]\n",
        "\n",
        "# Try to change an element in the list\n",
        "print(\"Original list:\", my_list)\n",
        "my_list[2] = 10  # Changing the element at index 2\n",
        "print(\"Modified list:\", my_list)\n",
        "\n",
        "# Create a tuple\n",
        "my_tuple = (1, 2, 3, 4, 5)\n",
        "\n",
        "# Try to change an element in the tuple\n",
        "print(\"Original tuple:\", my_tuple)\n",
        "try:\n",
        "    my_tuple[2] = 10  # Trying to change the element at index 2\n",
        "except TypeError as e:\n",
        "    print(f\"Error: {e}\")"
      ],
      "metadata": {
        "colab": {
          "base_uri": "https://localhost:8080/"
        },
        "id": "fVR52uHkom2S",
        "outputId": "f8d5e28f-73c6-4e5a-9486-4e50df2e2a40"
      },
      "execution_count": null,
      "outputs": [
        {
          "output_type": "stream",
          "name": "stdout",
          "text": [
            "Original list: [1, 2, 3, 4, 5]\n",
            "Modified list: [1, 2, 10, 4, 5]\n",
            "Original tuple: (1, 2, 3, 4, 5)\n",
            "Error: 'tuple' object does not support item assignment\n"
          ]
        }
      ]
    },
    {
      "cell_type": "markdown",
      "source": [
        "Q.6 Write a function to demonstrate the behavior of mutable and immutable arguments"
      ],
      "metadata": {
        "id": "TRgFV3ugpZNC"
      }
    },
    {
      "cell_type": "code",
      "source": [
        "def demonstrate_mutable_immutable(arg1, arg2):\n",
        "    print(f\"Before modifications:\")\n",
        "    print(f\"arg1 (immutable): {arg1}\")\n",
        "    print(f\"arg2 (mutable): {arg2}\")\n",
        "    arg1 += 10\n",
        "    print(f\"After modifying arg1 (immutable): {arg1}\")\n",
        "\n",
        "    arg2.append(4)\n",
        "    print(f\"After modifying arg2 (mutable): {arg2}\")\n",
        "    return arg1, arg2\n",
        "num = 5\n",
        "lst = [1, 2, 3]\n",
        "new_num, new_lst = demonstrate_mutable_immutable(num, lst)\n",
        "# Observe the changes\n",
        "print(f\"Outside the function:\")\n",
        "print(f\"Original num (immutable): {num}\")  # num remains unchanged outside the function\n",
        "print(f\"Original lst (mutable): {lst}\")  # lst is modified outside the function\n"
      ],
      "metadata": {
        "colab": {
          "base_uri": "https://localhost:8080/"
        },
        "id": "Pls44m2VqjQQ",
        "outputId": "8f0cae67-4bab-449e-f812-9e461cf88200"
      },
      "execution_count": null,
      "outputs": [
        {
          "output_type": "stream",
          "name": "stdout",
          "text": [
            "Before modifications:\n",
            "arg1 (immutable): 5\n",
            "arg2 (mutable): [1, 2, 3]\n",
            "After modifying arg1 (immutable): 15\n",
            "After modifying arg2 (mutable): [1, 2, 3, 4]\n",
            "Outside the function:\n",
            "Original num (immutable): 5\n",
            "Original lst (mutable): [1, 2, 3, 4]\n"
          ]
        }
      ]
    },
    {
      "cell_type": "markdown",
      "source": [
        " Q.8 -Write a program to demonstrate the use of logical operators"
      ],
      "metadata": {
        "id": "wt-JFJbUrGh2"
      }
    },
    {
      "cell_type": "code",
      "source": [
        "x = 10\n",
        "y = 20\n",
        "z = 30\n",
        "\n",
        "# Logical AND operator\n",
        "print(\"Logical AND (x > 5 and y < 25):\", x > 5 and y < 25)\n",
        "\n",
        "# Logical OR operator\n",
        "print(\"Logical OR (x < 5 or z > 25):\", x < 5 or z > 25)\n",
        "\n",
        "# Logical NOT operator\n",
        "print(\"Logical NOT (not(x == 10)):\", not(x == 10))\n",
        "\n",
        "# Combining multiple logical operators\n",
        "print(\"Combined Logical Operators ((x > 5 and y < 25) or z == 30):\", (x > 5 and y < 25) or z == 30)\n",
        "# Testing logical operators with False conditions\n",
        "print(\"Logical AND (x < 5 and y > 25):\", x < 5 and y > 25)\n",
        "print(\"Logical OR (x < 5 or y > 25):\", x < 5 or y > 25)\n",
        "\n"
      ],
      "metadata": {
        "colab": {
          "base_uri": "https://localhost:8080/"
        },
        "id": "W0ZHjx3HrcGL",
        "outputId": "9755bf52-b5b3-4719-d817-dfac550e62d4"
      },
      "execution_count": null,
      "outputs": [
        {
          "output_type": "stream",
          "name": "stdout",
          "text": [
            "Logical AND (x > 5 and y < 25): True\n",
            "Logical OR (x < 5 or z > 25): True\n",
            "Logical NOT (not(x == 10)): False\n",
            "Combined Logical Operators ((x > 5 and y < 25) or z == 30): True\n",
            "Logical AND (x < 5 and y > 25): False\n",
            "Logical OR (x < 5 or y > 25): False\n"
          ]
        }
      ]
    },
    {
      "cell_type": "markdown",
      "source": [
        "Q9 Write a Python program to convert user input from string to integer, float, and boolean types"
      ],
      "metadata": {
        "id": "dS1GxXXitAb-"
      }
    },
    {
      "cell_type": "code",
      "source": [
        "user_input = input(\"Enter a value: \")\n",
        "\n",
        "# Convert the input to an integer\n",
        "try:\n",
        "    user_int = int(user_input)\n",
        "    print(f\"Converted to integer: {user_int}\")\n",
        "except ValueError:\n",
        "    print(\"Input cannot be converted to an integer.\")\n",
        "\n",
        "# Convert the input to a float\n",
        "try:\n",
        "    user_float = float(user_input)\n",
        "    print(f\"Converted to float: {user_float}\")\n",
        "except ValueError:\n",
        "    print(\"Input cannot be converted to a float.\")\n",
        "\n",
        "# Convert the input to a boolean\n",
        "# In Python, any non-empty string is considered True, and an empty string is considered False.\n",
        "user_bool = bool(user_input)\n",
        "print(f\"Converted to boolean: {user_bool}\")"
      ],
      "metadata": {
        "colab": {
          "base_uri": "https://localhost:8080/",
          "height": 193
        },
        "id": "FRf8OGx4thJN",
        "outputId": "c83b2db4-a5dd-48ea-e2af-05e369df9b01"
      },
      "execution_count": null,
      "outputs": [
        {
          "output_type": "stream",
          "name": "stdout",
          "text": [
            "ENTER ANY NUMBER 2.5\n",
            "2.5\n"
          ]
        },
        {
          "output_type": "error",
          "ename": "AttributeError",
          "evalue": "'NoneType' object has no attribute 'type'",
          "traceback": [
            "\u001b[0;31m---------------------------------------------------------------------------\u001b[0m",
            "\u001b[0;31mAttributeError\u001b[0m                            Traceback (most recent call last)",
            "\u001b[0;32m<ipython-input-25-fe925dd84520>\u001b[0m in \u001b[0;36m<cell line: 2>\u001b[0;34m()\u001b[0m\n\u001b[1;32m      1\u001b[0m \u001b[0mnum\u001b[0m \u001b[0;34m=\u001b[0m \u001b[0mprint\u001b[0m\u001b[0;34m(\u001b[0m\u001b[0minput\u001b[0m\u001b[0;34m(\u001b[0m\u001b[0;34m\"ENTER ANY NUMBER \"\u001b[0m\u001b[0;34m)\u001b[0m\u001b[0;34m)\u001b[0m\u001b[0;34m\u001b[0m\u001b[0;34m\u001b[0m\u001b[0m\n\u001b[0;32m----> 2\u001b[0;31m \u001b[0mnum\u001b[0m\u001b[0;34m.\u001b[0m\u001b[0mtype\u001b[0m\u001b[0;34m\u001b[0m\u001b[0;34m\u001b[0m\u001b[0m\n\u001b[0m",
            "\u001b[0;31mAttributeError\u001b[0m: 'NoneType' object has no attribute 'type'"
          ]
        }
      ]
    },
    {
      "cell_type": "markdown",
      "source": [
        "Q.10 Write code to demonstrate type casting with list elements?"
      ],
      "metadata": {
        "id": "mZW8eTJJLoS3"
      }
    },
    {
      "cell_type": "code",
      "source": [
        "original_list = [\"1\", \"2\", \"3.5\", \"4.6\", \"True\", \"False\"]\n",
        "\n",
        "# Demonstrating type casting\n",
        "int_list = [int(float(item)) for item in original_list if item.replace('.', '', 1).isdigit()]\n",
        "float_list = [float(item) for item in original_list if item.replace('.', '', 1).isdigit()]\n",
        "bool_list = [item.lower() == \"true\" for item in original_list if item.lower() in [\"true\", \"false\"]]\n",
        "\n",
        "# Printing results\n",
        "print(\"Original List:\", original_list)\n",
        "print(\"List as Integers:\", int_list)\n",
        "print(\"List as Floats:\", float_list)\n",
        "print(\"List as Booleans:\", bool_list)"
      ],
      "metadata": {
        "id": "YqIAt1vpLzzm"
      },
      "execution_count": null,
      "outputs": []
    },
    {
      "cell_type": "markdown",
      "source": [
        "Q.11 Write a program that checks if a number is positive, negative, or zero"
      ],
      "metadata": {
        "id": "9Y2edPiwMFOe"
      }
    },
    {
      "cell_type": "code",
      "source": [
        "def check_number(num):\n",
        "    if num > 0:\n",
        "        return \"The number is positive.\"\n",
        "    elif num < 0:\n",
        "        return \"The number is negative.\"\n",
        "    else:\n",
        "        return \"The number is zero.\"\n",
        "\n",
        "# Input from the user\n",
        "try:\n",
        "    number = float(input(\"Enter a number: \"))\n",
        "    result = check_number(number)\n",
        "    print(result)\n",
        "except ValueError:\n",
        "    print(\"Invalid input! Please enter a valid number.\")"
      ],
      "metadata": {
        "colab": {
          "base_uri": "https://localhost:8080/"
        },
        "id": "goEtAnNRMGWf",
        "outputId": "f8ebe9fc-b4d1-42ce-f618-b1b853c5b7c5"
      },
      "execution_count": null,
      "outputs": [
        {
          "output_type": "stream",
          "name": "stdout",
          "text": [
            "Enter a number: 5\n",
            "The number is positive.\n"
          ]
        }
      ]
    },
    {
      "cell_type": "markdown",
      "source": [
        " Q.12 Write a for loop to print numbers from 1 to 100"
      ],
      "metadata": {
        "id": "lUVYTlcpMTt1"
      }
    },
    {
      "cell_type": "code",
      "source": [
        "for number in range(1, 101):\n",
        "    print(number)"
      ],
      "metadata": {
        "colab": {
          "base_uri": "https://localhost:8080/"
        },
        "id": "nU2Bf2bDMUgO",
        "outputId": "55358ff5-874e-4768-e39d-95854907fbe5"
      },
      "execution_count": null,
      "outputs": [
        {
          "output_type": "stream",
          "name": "stdout",
          "text": [
            "1\n",
            "2\n",
            "3\n",
            "4\n",
            "5\n",
            "6\n",
            "7\n",
            "8\n",
            "9\n",
            "10\n",
            "11\n",
            "12\n",
            "13\n",
            "14\n",
            "15\n",
            "16\n",
            "17\n",
            "18\n",
            "19\n",
            "20\n",
            "21\n",
            "22\n",
            "23\n",
            "24\n",
            "25\n",
            "26\n",
            "27\n",
            "28\n",
            "29\n",
            "30\n",
            "31\n",
            "32\n",
            "33\n",
            "34\n",
            "35\n",
            "36\n",
            "37\n",
            "38\n",
            "39\n",
            "40\n",
            "41\n",
            "42\n",
            "43\n",
            "44\n",
            "45\n",
            "46\n",
            "47\n",
            "48\n",
            "49\n",
            "50\n",
            "51\n",
            "52\n",
            "53\n",
            "54\n",
            "55\n",
            "56\n",
            "57\n",
            "58\n",
            "59\n",
            "60\n",
            "61\n",
            "62\n",
            "63\n",
            "64\n",
            "65\n",
            "66\n",
            "67\n",
            "68\n",
            "69\n",
            "70\n",
            "71\n",
            "72\n",
            "73\n",
            "74\n",
            "75\n",
            "76\n",
            "77\n",
            "78\n",
            "79\n",
            "80\n",
            "81\n",
            "82\n",
            "83\n",
            "84\n",
            "85\n",
            "86\n",
            "87\n",
            "88\n",
            "89\n",
            "90\n",
            "91\n",
            "92\n",
            "93\n",
            "94\n",
            "95\n",
            "96\n",
            "97\n",
            "98\n",
            "99\n",
            "100\n"
          ]
        }
      ]
    },
    {
      "cell_type": "markdown",
      "source": [
        " Q.13 Write a Python program to find the sum of all even numbers between 1 and 50"
      ],
      "metadata": {
        "id": "d-G7YdyDMhuG"
      }
    },
    {
      "cell_type": "code",
      "source": [
        "even_sum = 0\n",
        "\n",
        "# Loop through numbers from 1 to 50\n",
        "for number in range(1, 51):\n",
        "    if number % 2 == 0:  # Check if the number is even\n",
        "        even_sum += number\n",
        "        print(even_sum)"
      ],
      "metadata": {
        "colab": {
          "base_uri": "https://localhost:8080/"
        },
        "id": "3RdOm3JnM3bH",
        "outputId": "22f94d86-f832-4a97-850a-ad44c6612f61"
      },
      "execution_count": null,
      "outputs": [
        {
          "output_type": "stream",
          "name": "stdout",
          "text": [
            "2\n",
            "6\n",
            "12\n",
            "20\n",
            "30\n",
            "42\n",
            "56\n",
            "72\n",
            "90\n",
            "110\n",
            "132\n",
            "156\n",
            "182\n",
            "210\n",
            "240\n",
            "272\n",
            "306\n",
            "342\n",
            "380\n",
            "420\n",
            "462\n",
            "506\n",
            "552\n",
            "600\n",
            "650\n"
          ]
        }
      ]
    },
    {
      "cell_type": "markdown",
      "source": [
        "Q.14  Write a program to reverse a string using a while loop"
      ],
      "metadata": {
        "id": "iZI06ksONNLG"
      }
    },
    {
      "cell_type": "code",
      "source": [
        "def reversed_string(s):\n",
        "    return s[::-1]  # This reverses the string using slicing\n",
        "input_string = \"hello\"\n",
        "reversed_result = reversed_string(input_string)\n",
        "print(f\"Original String: {input_string}\")\n",
        "print(f\"Reversed String: {reversed_result}\")\n"
      ],
      "metadata": {
        "colab": {
          "base_uri": "https://localhost:8080/"
        },
        "id": "-VaV4uINNjW2",
        "outputId": "758a8682-278c-4b6c-80b7-5c2a18691a4f"
      },
      "execution_count": null,
      "outputs": [
        {
          "output_type": "stream",
          "name": "stdout",
          "text": [
            "Original String: hello\n",
            "Reversed String: olleh\n"
          ]
        }
      ]
    },
    {
      "cell_type": "markdown",
      "source": [
        "Q.15  Write a Python program to calculate the factorial of a number provided by the user using a while loop."
      ],
      "metadata": {
        "id": "Xc5UE2QcOTPu"
      }
    },
    {
      "cell_type": "code",
      "source": [
        "number = int(input(\"Enter a non-negative integer: \"))\n",
        "\n",
        "# Initialize variables\n",
        "factorial = 1\n",
        "i = 1\n",
        "\n",
        "# Ensure the input is non-negative\n",
        "if number < 0:\n",
        "    print(\"Factorial is not defined for negative numbers.\")\n",
        "else:\n",
        "    # Calculate factorial using a while loop\n",
        "    while i <= number:\n",
        "        factorial *= i\n",
        "        i += 1"
      ],
      "metadata": {
        "colab": {
          "base_uri": "https://localhost:8080/"
        },
        "id": "Sm1FpsNGOUEf",
        "outputId": "e2cc15e4-2477-4f35-c556-c881d16baffc"
      },
      "execution_count": null,
      "outputs": [
        {
          "name": "stdout",
          "output_type": "stream",
          "text": [
            "Enter a non-negative integer: 5\n"
          ]
        }
      ]
    },
    {
      "cell_type": "markdown",
      "source": [
        "# Python Basics **Questions**"
      ],
      "metadata": {
        "id": "al2AosQXQUtX"
      }
    },
    {
      "cell_type": "markdown",
      "source": [
        "What is Python, and why is it popular?\n",
        "\n",
        "ANS . - Python is a high-level, versatile programming language known for its simplicity and readability. It’s popular because it's easy to learn, has a vast library ecosystem, and supports various applications like web development, data analysis, AI, and more"
      ],
      "metadata": {
        "id": "m0lZX0oVQdIN"
      }
    },
    {
      "cell_type": "markdown",
      "source": [
        "Q.2 - What is an interpreter in Python\n",
        "An interpreter in Python is a program that executes Python code line by line, converting it into machine-readable instructions."
      ],
      "metadata": {
        "id": "K3HSVaBtQ4j2"
      }
    },
    {
      "cell_type": "markdown",
      "source": [
        "Q.3 What are pre-defined keywords in Python\n",
        "Pre-defined keywords in Python are reserved words that have special meaning and cannot be used as variable names. Examples include if, else, for, while, def, and class. These keywords define the structure and behavior of Python programs."
      ],
      "metadata": {
        "id": "UyCsAutFRO9y"
      }
    },
    {
      "cell_type": "markdown",
      "source": [
        " Q.4 Can keywords be used as variable names ?\n",
        "\n",
        " No, keywords cannot be used as variable names in Python. They are reserved for specific functions within the language and have a predefined meaning, so trying to use them as variable names will result in a syntax error."
      ],
      "metadata": {
        "id": "7x7oQONYR-Hx"
      }
    },
    {
      "cell_type": "markdown",
      "source": [
        "Q.5 What is mutability in Python?\n",
        "\n",
        "Mutability in Python refers to the ability of an object to be modified after it is created."
      ],
      "metadata": {
        "id": "ZVCzcn01Su0e"
      }
    },
    {
      "cell_type": "markdown",
      "source": [
        "\n",
        "Q.6 Why are lists mutable, but tuples are immutable?\n",
        "Lists are mutable to allow flexible changes, while tuples are immutable to ensure data integrity and optimize performance."
      ],
      "metadata": {
        "id": "VNvqQ2P_S0Cy"
      }
    },
    {
      "cell_type": "markdown",
      "source": [
        "Q.7 What is the difference between “==” and “is” operators in Python\n",
        "The == operator checks if two objects have the same value, while the is operator checks if they are the exact same object in memory."
      ],
      "metadata": {
        "id": "fPB8KO2RTNDI"
      }
    },
    {
      "cell_type": "markdown",
      "source": [
        "Q.8 Logical operators in Python are used to combine conditional statements. The main ones are:\n",
        "\n",
        "and  Returns True if both conditions are true.\n",
        "or  Returns True if at least one condition is true.\n",
        "not  Returns the opposite of a condition."
      ],
      "metadata": {
        "id": "DMnzL1UBTqlu"
      }
    },
    {
      "cell_type": "markdown",
      "source": [
        "Q.9 - What is type casting in Python\n",
        "Type casting in Python is converting one data type to another, such as from int to float or str"
      ],
      "metadata": {
        "id": "lpfviN6oT-lY"
      }
    },
    {
      "cell_type": "markdown",
      "source": [
        "Q.10 What is the difference between implicit and explicit type casting\n",
        "\n",
        "Implicit type casting is automatically done by Python when converting a smaller data type to a larger one (e.g., from int to float), while explicit type casting requires the programmer to manually convert the data type using functions like int(), float(), or str()"
      ],
      "metadata": {
        "id": "fath9NbxUNNH"
      }
    },
    {
      "cell_type": "markdown",
      "source": [
        "Q.11 What is the purpose of conditional statements in Python\n",
        "The purpose of conditional statements in Python is to execute specific blocks of code based on whether a condition is true or false, allowing for decision-making in programs"
      ],
      "metadata": {
        "id": "k2PSicxIUhRv"
      }
    },
    {
      "cell_type": "markdown",
      "source": [
        "Q.12 How does the elif statement work\n",
        "The elif statement checks additional conditions if the previous if or elif conditions are false and executes the corresponding block of code for the first true condition"
      ],
      "metadata": {
        "id": "D7WAKONaUt2Q"
      }
    },
    {
      "cell_type": "markdown",
      "source": [
        "Q.13 What is the difference between for and while loops ?\n",
        "\n",
        "A for loop iterates over a sequence of elements, while a while loop continues as long as a given condition is true."
      ],
      "metadata": {
        "id": "1StEdxj2U9YP"
      }
    },
    {
      "cell_type": "markdown",
      "source": [
        "Q.14 Describe a scenario where a while loop is more suitable than a for loop?\n",
        "\n",
        "A while loop is more suitable than a for loop when the number of iterations is not known ahead of time and the loop should continue running as long as a certain condition is true\n",
        "\n",
        "python\n",
        "Copy code\n"
      ],
      "metadata": {
        "id": "icn_55BZVQOZ"
      }
    }
  ]
}